{
 "cells": [
  {
   "cell_type": "code",
   "execution_count": 1,
   "metadata": {
    "ExecuteTime": {
     "end_time": "2019-07-18T09:28:09.930234Z",
     "start_time": "2019-07-18T09:28:08.328766Z"
    }
   },
   "outputs": [],
   "source": [
    "import pandas as pd\n",
    "import ee\n",
    "from collections import defaultdict\n",
    "import numpy as np\n",
    "import datetime\n",
    "ee.Initialize()\n"
   ]
  },
  {
   "cell_type": "markdown",
   "metadata": {},
   "source": [
    "# Parameters"
   ]
  },
  {
   "cell_type": "code",
   "execution_count": 2,
   "metadata": {
    "ExecuteTime": {
     "end_time": "2019-07-18T09:28:09.935077Z",
     "start_time": "2019-07-18T09:28:09.931729Z"
    }
   },
   "outputs": [],
   "source": [
    "# LOCATION OF CSV FILE with coordinates\n",
    "DATA = './data.csv'\n",
    "\n",
    "# NUMBER OF FILES TO DOWNLOAD\n",
    "# set to None to download all files\n",
    "DOWNLOAD_NB_FILES = 20\n",
    "\n",
    "# RADIUS AROUND COORD IN METERS\n",
    "# This is the number of meter around the point coordinate to include in the picture\n",
    "RADIUS_AROUND = 400\n",
    "\n",
    "# MULTISPECTRAL OR RGB\n",
    "ALL_BANDS = True\n",
    "\n",
    "# RANGES FOR BANDS - Only for RGB images\n",
    "# Values tested on different location in nepal\n",
    "# Hypothesis: Should be the same for all images\n",
    "RANGE_MIN = 0\n",
    "RANGE_MAX = 2000\n",
    "\n",
    "# RANGE FOR DATES\n",
    "# CSV shows one date per observation.\n",
    "# However, we need to take several pictures to select ones without clouds\n",
    "# We look for RANDE_DATE weeks around the date\n",
    "RANDE_DATE = 2\n",
    "TOI = '15/11/2016'\n",
    "\n",
    "# GOOGLE DRIVE FOLDER\n",
    "GDRIVE_FOLDER = 'SENTINEL2-PICTURES-ALL'"
   ]
  },
  {
   "cell_type": "markdown",
   "metadata": {},
   "source": [
    "# Import CSV data a nd remove NaNs"
   ]
  },
  {
   "cell_type": "code",
   "execution_count": 3,
   "metadata": {
    "ExecuteTime": {
     "end_time": "2019-07-18T09:28:09.952997Z",
     "start_time": "2019-07-18T09:28:09.936525Z"
    }
   },
   "outputs": [
    {
     "name": "stdout",
     "output_type": "stream",
     "text": [
      "Len of input data: 1585\n"
     ]
    }
   ],
   "source": [
    "df = pd.read_csv(DATA, index_col=0)\n",
    "print(f'Len of input data: {len(df)}')"
   ]
  },
  {
   "cell_type": "code",
   "execution_count": 4,
   "metadata": {
    "ExecuteTime": {
     "end_time": "2019-07-18T09:28:09.957847Z",
     "start_time": "2019-07-18T09:28:09.954263Z"
    }
   },
   "outputs": [],
   "source": [
    "df.dropna(inplace=True)"
   ]
  },
  {
   "cell_type": "code",
   "execution_count": 5,
   "metadata": {
    "ExecuteTime": {
     "end_time": "2019-07-18T09:28:09.962149Z",
     "start_time": "2019-07-18T09:28:09.958958Z"
    }
   },
   "outputs": [
    {
     "name": "stdout",
     "output_type": "stream",
     "text": [
      "1433 images in the CSV file\n"
     ]
    }
   ],
   "source": [
    "print(f'{len(df)} images in the CSV file')"
   ]
  },
  {
   "cell_type": "markdown",
   "metadata": {},
   "source": [
    "# Google Earth Engine download\n"
   ]
  },
  {
   "cell_type": "code",
   "execution_count": 6,
   "metadata": {
    "ExecuteTime": {
     "end_time": "2019-07-18T09:28:09.967209Z",
     "start_time": "2019-07-18T09:28:09.963258Z"
    }
   },
   "outputs": [],
   "source": [
    "dataset = ee.ImageCollection('COPERNICUS/S2').select(['B4', 'B3', 'B2'])"
   ]
  },
  {
   "cell_type": "code",
   "execution_count": 7,
   "metadata": {
    "ExecuteTime": {
     "end_time": "2019-07-18T09:28:09.972473Z",
     "start_time": "2019-07-18T09:28:09.968484Z"
    }
   },
   "outputs": [],
   "source": [
    "def get_image_name(index, longitude, latitude):\n",
    "    return f'{str(index)}_{str(longitude)}_{str(latitude)}'.replace('.', '-')"
   ]
  },
  {
   "cell_type": "code",
   "execution_count": 8,
   "metadata": {
    "ExecuteTime": {
     "end_time": "2019-07-18T09:28:10.078253Z",
     "start_time": "2019-07-18T09:28:09.973805Z"
    }
   },
   "outputs": [],
   "source": [
    "# Create list with a tuple per point: File name - x - y - date\n",
    "coords = [(get_image_name(point[1][0], point[1][1], point[1][2]), point[1][1], point[1][2]) for point in df.loc[:, ['index', 'coord_obs_x', 'coord_obs_y']].iterrows()]"
   ]
  },
  {
   "cell_type": "code",
   "execution_count": 9,
   "metadata": {
    "ExecuteTime": {
     "end_time": "2019-07-18T09:28:10.085283Z",
     "start_time": "2019-07-18T09:28:10.079480Z"
    }
   },
   "outputs": [
    {
     "data": {
      "text/plain": [
       "('0-0_84-28586591_27-42846051', 84.28586591, 27.42846051)"
      ]
     },
     "execution_count": 9,
     "metadata": {},
     "output_type": "execute_result"
    }
   ],
   "source": [
    "# File name - x - y\n",
    "coords[0]"
   ]
  },
  {
   "cell_type": "code",
   "execution_count": 10,
   "metadata": {
    "ExecuteTime": {
     "end_time": "2019-07-18T09:28:10.093983Z",
     "start_time": "2019-07-18T09:28:10.086502Z"
    }
   },
   "outputs": [],
   "source": [
    "# Generate a rectangle containing the circle (centered on the coordinate) with radius RADIUS_AROUND\n",
    "def get_geometry_radius(geometry_point):\n",
    "    coord = np.array(geometry_point.getInfo()['coordinates'][0])\n",
    "    return ee.Geometry.Rectangle([coord[:, 0].min(), coord[:, 1].min(), coord[:, 0].max(), coord[:, 1].max()])\n",
    "\n",
    "# Generate the dates around the time of interest. Useful to have enough images to filter clouds\n",
    "def date_range_to_collect(time_of_interest, debug=False):\n",
    "\n",
    "    d, m, y = time_of_interest.split('/')\n",
    "  \n",
    "        \n",
    "    target_date = datetime.date(int(y), int(m), int(d))\n",
    "    delta = datetime.timedelta(weeks=RANDE_DATE)\n",
    "    return target_date-delta, target_date+delta\n",
    "\n",
    "def generate_image(image_collection, image_name, x, y, debug=True):\n",
    "    if debug: print(f'Working on {image_name}: ({x}, {y})')\n",
    "        \n",
    "    geo = ee.Geometry.Point(x, y);\n",
    "    radius = geo.buffer(RADIUS_AROUND);\n",
    "    geometry_radius= get_geometry_radius(radius)\n",
    "    \n",
    "    spatialFiltered = image_collection.filterBounds(geo)\n",
    "\n",
    "    date_range = date_range_to_collect(TOI, debug)\n",
    "    if debug: print(f'date range: {str(date_range[0])} {str(date_range[1])}')\n",
    "        \n",
    "    temporalFiltered = spatialFiltered.filterDate(str(date_range[0]), str(date_range[1]))\n",
    "\n",
    "    least_clouds = temporalFiltered.sort('CLOUD_COVER').first()\n",
    "\n",
    "\n",
    "    if ALL_BANDS:\n",
    "        img = least_clouds.select('B.+')\n",
    "    else:\n",
    "        img = least_clouds.visualize(bands=['B4', 'B3', 'B2'], min=RANGE_MIN, max=RANGE_MAX)\n",
    "    \n",
    "    task = ee.batch.Export.image.toDrive(img, folder=GDRIVE_FOLDER, region=geometry_radius.getInfo()['coordinates'][0], description=image_name, scale=10)\n",
    "    task.start()\n"
   ]
  },
  {
   "cell_type": "code",
   "execution_count": 11,
   "metadata": {
    "ExecuteTime": {
     "end_time": "2019-07-18T09:29:20.783849Z",
     "start_time": "2019-07-18T09:28:10.095211Z"
    }
   },
   "outputs": [
    {
     "name": "stdout",
     "output_type": "stream",
     "text": [
      "Working on 0-0_84-28586591_27-42846051: (84.28586591, 27.42846051)\n",
      "date range: 2016-11-01 2016-11-29\n",
      "Working on 1-0_84-28724124_27-42850423: (84.28724124, 27.42850423)\n",
      "date range: 2016-11-01 2016-11-29\n",
      "Working on 2-0_84-28578211_27-42716335: (84.28578211, 27.42716335)\n",
      "date range: 2016-11-01 2016-11-29\n",
      "Working on 3-0_84-28731738_27-42719899: (84.28731738, 27.42719899)\n",
      "date range: 2016-11-01 2016-11-29\n",
      "Working on 4-0_84-40704161_27-43081959: (84.40704161, 27.43081959)\n",
      "date range: 2016-11-01 2016-11-29\n",
      "Working on 5-0_84-40851456_27-43078346: (84.40851456, 27.43078346)\n",
      "date range: 2016-11-01 2016-11-29\n",
      "Working on 6-0_84-40694692_27-42943646: (84.40694692, 27.42943646)\n",
      "date range: 2016-11-01 2016-11-29\n",
      "Working on 7-0_84-40851276_27-42944815: (84.40851276, 27.42944815)\n",
      "date range: 2016-11-01 2016-11-29\n",
      "Working on 10-0_84-43776981_27-43237146: (84.43776981, 27.43237146)\n",
      "date range: 2016-11-01 2016-11-29\n",
      "Working on 11-0_84-43770428_27-43235336: (84.43770428, 27.43235336)\n",
      "date range: 2016-11-01 2016-11-29\n",
      "Working on 12-0_84-31585037_27-43806162: (84.31585037, 27.43806162)\n",
      "date range: 2016-11-01 2016-11-29\n",
      "Working on 13-0_84-31737319_27-43811606: (84.31737319, 27.43811606)\n",
      "date range: 2016-11-01 2016-11-29\n",
      "Working on 14-0_84-31589526_27-43682279: (84.31589526, 27.43682279)\n",
      "date range: 2016-11-01 2016-11-29\n",
      "Working on 15-0_84-31741151_27-4367469: (84.31741151, 27.4367469)\n",
      "date range: 2016-11-01 2016-11-29\n",
      "Working on 16-0_84-33603317_27-43843619: (84.33603317, 27.43843619)\n",
      "date range: 2016-11-01 2016-11-29\n",
      "Working on 17-0_84-33761965_27-43853205: (84.33761965, 27.43853205)\n",
      "date range: 2016-11-01 2016-11-29\n",
      "Working on 18-0_84-3360402_27-43709978: (84.3360402, 27.43709978)\n",
      "date range: 2016-11-01 2016-11-29\n",
      "Working on 19-0_84-33767689_27-43715581: (84.33767689, 27.43715581)\n",
      "date range: 2016-11-01 2016-11-29\n",
      "Working on 20-0_84-3410999_27-438617: (84.3410999, 27.438617)\n",
      "date range: 2016-11-01 2016-11-29\n",
      "Working on 21-0_84-30068409999998_27-4779499: (84.30068409999998, 27.4779499)\n",
      "date range: 2016-11-01 2016-11-29\n"
     ]
    }
   ],
   "source": [
    "dataset_collection = ee.ImageCollection('COPERNICUS/S2')\n",
    "\n",
    "\n",
    "for i, point in enumerate(coords):\n",
    "    if DOWNLOAD_NB_FILES is not None and i >= DOWNLOAD_NB_FILES:\n",
    "        break\n",
    "    generate_image(dataset_collection, image_name=point[0], x=point[1], y=point[2])"
   ]
  }
 ],
 "metadata": {
  "kernelspec": {
   "display_name": "Python 3",
   "language": "python",
   "name": "python3"
  },
  "language_info": {
   "codemirror_mode": {
    "name": "ipython",
    "version": 3
   },
   "file_extension": ".py",
   "mimetype": "text/x-python",
   "name": "python",
   "nbconvert_exporter": "python",
   "pygments_lexer": "ipython3",
   "version": "3.7.3"
  }
 },
 "nbformat": 4,
 "nbformat_minor": 2
}
