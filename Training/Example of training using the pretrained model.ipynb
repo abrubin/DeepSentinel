{
 "cells": [
  {
   "cell_type": "markdown",
   "metadata": {},
   "source": [
    "# How to use the pretrained model\n",
    "\n",
    "This Notebook shows how to load the pretrained model and use it with the fastai library"
   ]
  },
  {
   "cell_type": "code",
   "execution_count": 32,
   "metadata": {
    "ExecuteTime": {
     "end_time": "2019-07-18T14:21:01.331781Z",
     "start_time": "2019-07-18T14:21:01.312695Z"
    }
   },
   "outputs": [
    {
     "name": "stdout",
     "output_type": "stream",
     "text": [
      "The autoreload extension is already loaded. To reload it, use:\n",
      "  %reload_ext autoreload\n"
     ]
    }
   ],
   "source": [
    "%load_ext autoreload\n",
    "%autoreload 2\n",
    "\n",
    "from fastai.vision import *\n",
    "from PIL import Image\n",
    "from matplotlib.pyplot import imshow\n",
    "from pathlib import Path\n",
    "from tqdm import tqdm\n",
    "from skimage import io\n",
    "from fastai.vision.models.xresnet import *"
   ]
  },
  {
   "cell_type": "code",
   "execution_count": 33,
   "metadata": {
    "ExecuteTime": {
     "end_time": "2019-07-18T14:21:03.082934Z",
     "start_time": "2019-07-18T14:21:03.063562Z"
    }
   },
   "outputs": [],
   "source": [
    "path = 'data/S2-allbands/crop/'"
   ]
  },
  {
   "cell_type": "code",
   "execution_count": 34,
   "metadata": {
    "ExecuteTime": {
     "end_time": "2019-07-18T14:21:17.061398Z",
     "start_time": "2019-07-18T14:21:17.045873Z"
    }
   },
   "outputs": [],
   "source": [
    "# Examples of labeling and custom data class for fastai\n",
    "\n",
    "def label_for_rice(name):\n",
    "    crops = (name.stem.split('-')[-1])\n",
    "    \n",
    "    return crops in ['B101', 'B102', 'B103']\n",
    "\n",
    "class NPList(ImageList):\n",
    "    def __init__(self, *args, **kwargs):\n",
    "        super().__init__(*args, **kwargs)\n",
    "        \n",
    "    def open(self, fn):\n",
    "        raw = np.load(str(fn))\n",
    "        x = np.swapaxes(raw, 0, 2).astype(np.float32)\n",
    "        return x"
   ]
  },
  {
   "cell_type": "code",
   "execution_count": 7,
   "metadata": {
    "ExecuteTime": {
     "end_time": "2019-07-18T14:15:35.012194Z",
     "start_time": "2019-07-18T14:15:34.997513Z"
    }
   },
   "outputs": [],
   "source": [
    "stats_eurosat_allbands = ([1353.73046875,\n",
    "  1117.2020263671875,\n",
    "  1041.8876953125,\n",
    "  946.5513305664062,\n",
    "  1199.1883544921875,\n",
    "  2003.0101318359375,\n",
    "  2374.01171875,\n",
    "  2301.222412109375,\n",
    "  732.1828002929688,\n",
    "  12.099513053894043,\n",
    "  1820.6893310546875,\n",
    "  1118.1998291015625,\n",
    "  2599.784912109375],\n",
    " [30.343395233154297,\n",
    "  66.4549560546875,\n",
    "  71.52734375,\n",
    "  86.9700698852539,\n",
    "  70.47565460205078,\n",
    "  81.35286712646484,\n",
    "  97.88168334960938,\n",
    "  99.96805572509766,\n",
    "  27.891748428344727,\n",
    "  0.32882159948349,\n",
    "  92.60734558105469,\n",
    "  87.39993286132812,\n",
    "  106.57888793945312])"
   ]
  },
  {
   "cell_type": "code",
   "execution_count": 8,
   "metadata": {
    "ExecuteTime": {
     "end_time": "2019-07-18T14:15:39.629466Z",
     "start_time": "2019-07-18T14:15:39.523877Z"
    }
   },
   "outputs": [],
   "source": [
    "data = NPList.from_folder(path, extensions=['.npy'])\n",
    "data = data.split_by_rand_pct()\n",
    "data = data.label_from_func(label_for_rice)\n",
    "data = data.databunch()\n",
    "data = data.normalize(stats_eurosat_allbands)"
   ]
  },
  {
   "cell_type": "markdown",
   "metadata": {},
   "source": [
    "## Loading the model"
   ]
  },
  {
   "cell_type": "code",
   "execution_count": 28,
   "metadata": {
    "ExecuteTime": {
     "end_time": "2019-07-18T14:19:25.271719Z",
     "start_time": "2019-07-18T14:19:25.253812Z"
    }
   },
   "outputs": [],
   "source": [
    "def create_model(data,  eurosat_url='../Weights of pretrained model/Model-multispectral-0.99'):\n",
    "    print('Importing custom xresnet50 pretrained on eurosat')\n",
    "\n",
    "    model = xresnet50(c_in=13, c_out=10)\n",
    "    st = torch.load(eurosat_url)\n",
    "    model.load_state_dict(st)\n",
    "    \n",
    "    m_new = nn.Sequential(*list(model.children())[:-3], AdaptiveConcatPool2d(), Flatten(), nn.Linear(4096, 2))\n",
    "    learn = Learner(data, m_new, metrics=[accuracy])\n",
    "    first_layer = learn.layer_groups[0][:-4]\n",
    "    second_layer = learn.layer_groups[0][-4:]\n",
    "    learn.layer_groups = [first_layer, second_layer]\n",
    "\n",
    "\n",
    "    return learn"
   ]
  },
  {
   "cell_type": "code",
   "execution_count": 35,
   "metadata": {
    "ExecuteTime": {
     "end_time": "2019-07-18T14:21:49.932289Z",
     "start_time": "2019-07-18T14:21:49.547520Z"
    }
   },
   "outputs": [
    {
     "name": "stdout",
     "output_type": "stream",
     "text": [
      "Importing custom xresnet50 pretrained on eurosat\n"
     ]
    }
   ],
   "source": [
    "learn = create_model(data)"
   ]
  },
  {
   "cell_type": "code",
   "execution_count": 36,
   "metadata": {
    "ExecuteTime": {
     "end_time": "2019-07-18T14:21:55.541139Z",
     "start_time": "2019-07-18T14:21:55.234478Z"
    }
   },
   "outputs": [
    {
     "data": {
      "text/plain": [
       "Sequential\n",
       "======================================================================\n",
       "Layer (type)         Output Shape         Param #    Trainable \n",
       "======================================================================\n",
       "Conv2d               [32, 32, 32]         3,744      True      \n",
       "______________________________________________________________________\n",
       "BatchNorm2d          [32, 32, 32]         64         True      \n",
       "______________________________________________________________________\n",
       "ReLU                 [2048, 2, 2]         0          False     \n",
       "______________________________________________________________________\n",
       "Conv2d               [32, 32, 32]         9,216      True      \n",
       "______________________________________________________________________\n",
       "BatchNorm2d          [32, 32, 32]         64         True      \n",
       "______________________________________________________________________\n",
       "ReLU                 [2048, 2, 2]         0          False     \n",
       "______________________________________________________________________\n",
       "Conv2d               [64, 32, 32]         18,432     True      \n",
       "______________________________________________________________________\n",
       "BatchNorm2d          [64, 32, 32]         128        True      \n",
       "______________________________________________________________________\n",
       "ReLU                 [2048, 2, 2]         0          False     \n",
       "______________________________________________________________________\n",
       "MaxPool2d            [64, 16, 16]         0          False     \n",
       "______________________________________________________________________\n",
       "Conv2d               [64, 16, 16]         4,096      True      \n",
       "______________________________________________________________________\n",
       "BatchNorm2d          [64, 16, 16]         128        True      \n",
       "______________________________________________________________________\n",
       "ReLU                 [2048, 2, 2]         0          False     \n",
       "______________________________________________________________________\n",
       "Conv2d               [64, 16, 16]         36,864     True      \n",
       "______________________________________________________________________\n",
       "BatchNorm2d          [64, 16, 16]         128        True      \n",
       "______________________________________________________________________\n",
       "ReLU                 [2048, 2, 2]         0          False     \n",
       "______________________________________________________________________\n",
       "Conv2d               [256, 16, 16]        16,384     True      \n",
       "______________________________________________________________________\n",
       "BatchNorm2d          [256, 16, 16]        512        True      \n",
       "______________________________________________________________________\n",
       "Conv2d               [256, 16, 16]        16,384     True      \n",
       "______________________________________________________________________\n",
       "BatchNorm2d          [256, 16, 16]        512        True      \n",
       "______________________________________________________________________\n",
       "Conv2d               [64, 16, 16]         16,384     True      \n",
       "______________________________________________________________________\n",
       "BatchNorm2d          [64, 16, 16]         128        True      \n",
       "______________________________________________________________________\n",
       "ReLU                 [2048, 2, 2]         0          False     \n",
       "______________________________________________________________________\n",
       "Conv2d               [64, 16, 16]         36,864     True      \n",
       "______________________________________________________________________\n",
       "BatchNorm2d          [64, 16, 16]         128        True      \n",
       "______________________________________________________________________\n",
       "ReLU                 [2048, 2, 2]         0          False     \n",
       "______________________________________________________________________\n",
       "Conv2d               [256, 16, 16]        16,384     True      \n",
       "______________________________________________________________________\n",
       "BatchNorm2d          [256, 16, 16]        512        True      \n",
       "______________________________________________________________________\n",
       "Conv2d               [64, 16, 16]         16,384     True      \n",
       "______________________________________________________________________\n",
       "BatchNorm2d          [64, 16, 16]         128        True      \n",
       "______________________________________________________________________\n",
       "ReLU                 [2048, 2, 2]         0          False     \n",
       "______________________________________________________________________\n",
       "Conv2d               [64, 16, 16]         36,864     True      \n",
       "______________________________________________________________________\n",
       "BatchNorm2d          [64, 16, 16]         128        True      \n",
       "______________________________________________________________________\n",
       "ReLU                 [2048, 2, 2]         0          False     \n",
       "______________________________________________________________________\n",
       "Conv2d               [256, 16, 16]        16,384     True      \n",
       "______________________________________________________________________\n",
       "BatchNorm2d          [256, 16, 16]        512        True      \n",
       "______________________________________________________________________\n",
       "Conv2d               [128, 16, 16]        32,768     True      \n",
       "______________________________________________________________________\n",
       "BatchNorm2d          [128, 16, 16]        256        True      \n",
       "______________________________________________________________________\n",
       "ReLU                 [2048, 2, 2]         0          False     \n",
       "______________________________________________________________________\n",
       "Conv2d               [128, 8, 8]          147,456    True      \n",
       "______________________________________________________________________\n",
       "BatchNorm2d          [128, 8, 8]          256        True      \n",
       "______________________________________________________________________\n",
       "ReLU                 [2048, 2, 2]         0          False     \n",
       "______________________________________________________________________\n",
       "Conv2d               [512, 8, 8]          65,536     True      \n",
       "______________________________________________________________________\n",
       "BatchNorm2d          [512, 8, 8]          1,024      True      \n",
       "______________________________________________________________________\n",
       "Conv2d               [512, 8, 8]          131,072    True      \n",
       "______________________________________________________________________\n",
       "BatchNorm2d          [512, 8, 8]          1,024      True      \n",
       "______________________________________________________________________\n",
       "AvgPool2d            [256, 8, 8]          0          False     \n",
       "______________________________________________________________________\n",
       "Conv2d               [128, 8, 8]          65,536     True      \n",
       "______________________________________________________________________\n",
       "BatchNorm2d          [128, 8, 8]          256        True      \n",
       "______________________________________________________________________\n",
       "ReLU                 [2048, 2, 2]         0          False     \n",
       "______________________________________________________________________\n",
       "Conv2d               [128, 8, 8]          147,456    True      \n",
       "______________________________________________________________________\n",
       "BatchNorm2d          [128, 8, 8]          256        True      \n",
       "______________________________________________________________________\n",
       "ReLU                 [2048, 2, 2]         0          False     \n",
       "______________________________________________________________________\n",
       "Conv2d               [512, 8, 8]          65,536     True      \n",
       "______________________________________________________________________\n",
       "BatchNorm2d          [512, 8, 8]          1,024      True      \n",
       "______________________________________________________________________\n",
       "Conv2d               [128, 8, 8]          65,536     True      \n",
       "______________________________________________________________________\n",
       "BatchNorm2d          [128, 8, 8]          256        True      \n",
       "______________________________________________________________________\n",
       "ReLU                 [2048, 2, 2]         0          False     \n",
       "______________________________________________________________________\n",
       "Conv2d               [128, 8, 8]          147,456    True      \n",
       "______________________________________________________________________\n",
       "BatchNorm2d          [128, 8, 8]          256        True      \n",
       "______________________________________________________________________\n",
       "ReLU                 [2048, 2, 2]         0          False     \n",
       "______________________________________________________________________\n",
       "Conv2d               [512, 8, 8]          65,536     True      \n",
       "______________________________________________________________________\n",
       "BatchNorm2d          [512, 8, 8]          1,024      True      \n",
       "______________________________________________________________________\n",
       "Conv2d               [128, 8, 8]          65,536     True      \n",
       "______________________________________________________________________\n",
       "BatchNorm2d          [128, 8, 8]          256        True      \n",
       "______________________________________________________________________\n",
       "ReLU                 [2048, 2, 2]         0          False     \n",
       "______________________________________________________________________\n",
       "Conv2d               [128, 8, 8]          147,456    True      \n",
       "______________________________________________________________________\n",
       "BatchNorm2d          [128, 8, 8]          256        True      \n",
       "______________________________________________________________________\n",
       "ReLU                 [2048, 2, 2]         0          False     \n",
       "______________________________________________________________________\n",
       "Conv2d               [512, 8, 8]          65,536     True      \n",
       "______________________________________________________________________\n",
       "BatchNorm2d          [512, 8, 8]          1,024      True      \n",
       "______________________________________________________________________\n",
       "Conv2d               [256, 8, 8]          131,072    True      \n",
       "______________________________________________________________________\n",
       "BatchNorm2d          [256, 8, 8]          512        True      \n",
       "______________________________________________________________________\n",
       "ReLU                 [2048, 2, 2]         0          False     \n",
       "______________________________________________________________________\n",
       "Conv2d               [256, 4, 4]          589,824    True      \n",
       "______________________________________________________________________\n",
       "BatchNorm2d          [256, 4, 4]          512        True      \n",
       "______________________________________________________________________\n",
       "ReLU                 [2048, 2, 2]         0          False     \n",
       "______________________________________________________________________\n",
       "Conv2d               [1024, 4, 4]         262,144    True      \n",
       "______________________________________________________________________\n",
       "BatchNorm2d          [1024, 4, 4]         2,048      True      \n",
       "______________________________________________________________________\n",
       "Conv2d               [1024, 4, 4]         524,288    True      \n",
       "______________________________________________________________________\n",
       "BatchNorm2d          [1024, 4, 4]         2,048      True      \n",
       "______________________________________________________________________\n",
       "AvgPool2d            [512, 4, 4]          0          False     \n",
       "______________________________________________________________________\n",
       "Conv2d               [256, 4, 4]          262,144    True      \n",
       "______________________________________________________________________\n",
       "BatchNorm2d          [256, 4, 4]          512        True      \n",
       "______________________________________________________________________\n",
       "ReLU                 [2048, 2, 2]         0          False     \n",
       "______________________________________________________________________\n",
       "Conv2d               [256, 4, 4]          589,824    True      \n",
       "______________________________________________________________________\n",
       "BatchNorm2d          [256, 4, 4]          512        True      \n",
       "______________________________________________________________________\n",
       "ReLU                 [2048, 2, 2]         0          False     \n",
       "______________________________________________________________________\n",
       "Conv2d               [1024, 4, 4]         262,144    True      \n",
       "______________________________________________________________________\n",
       "BatchNorm2d          [1024, 4, 4]         2,048      True      \n",
       "______________________________________________________________________\n",
       "Conv2d               [256, 4, 4]          262,144    True      \n",
       "______________________________________________________________________\n",
       "BatchNorm2d          [256, 4, 4]          512        True      \n",
       "______________________________________________________________________\n",
       "ReLU                 [2048, 2, 2]         0          False     \n",
       "______________________________________________________________________\n",
       "Conv2d               [256, 4, 4]          589,824    True      \n",
       "______________________________________________________________________\n",
       "BatchNorm2d          [256, 4, 4]          512        True      \n",
       "______________________________________________________________________\n",
       "ReLU                 [2048, 2, 2]         0          False     \n",
       "______________________________________________________________________\n",
       "Conv2d               [1024, 4, 4]         262,144    True      \n",
       "______________________________________________________________________\n",
       "BatchNorm2d          [1024, 4, 4]         2,048      True      \n",
       "______________________________________________________________________\n",
       "Conv2d               [256, 4, 4]          262,144    True      \n",
       "______________________________________________________________________\n",
       "BatchNorm2d          [256, 4, 4]          512        True      \n",
       "______________________________________________________________________\n",
       "ReLU                 [2048, 2, 2]         0          False     \n",
       "______________________________________________________________________\n",
       "Conv2d               [256, 4, 4]          589,824    True      \n",
       "______________________________________________________________________\n",
       "BatchNorm2d          [256, 4, 4]          512        True      \n",
       "______________________________________________________________________\n",
       "ReLU                 [2048, 2, 2]         0          False     \n",
       "______________________________________________________________________\n",
       "Conv2d               [1024, 4, 4]         262,144    True      \n",
       "______________________________________________________________________\n",
       "BatchNorm2d          [1024, 4, 4]         2,048      True      \n",
       "______________________________________________________________________\n",
       "Conv2d               [256, 4, 4]          262,144    True      \n",
       "______________________________________________________________________\n",
       "BatchNorm2d          [256, 4, 4]          512        True      \n",
       "______________________________________________________________________\n",
       "ReLU                 [2048, 2, 2]         0          False     \n",
       "______________________________________________________________________\n",
       "Conv2d               [256, 4, 4]          589,824    True      \n",
       "______________________________________________________________________\n",
       "BatchNorm2d          [256, 4, 4]          512        True      \n",
       "______________________________________________________________________\n",
       "ReLU                 [2048, 2, 2]         0          False     \n",
       "______________________________________________________________________\n",
       "Conv2d               [1024, 4, 4]         262,144    True      \n",
       "______________________________________________________________________\n",
       "BatchNorm2d          [1024, 4, 4]         2,048      True      \n",
       "______________________________________________________________________\n",
       "Conv2d               [256, 4, 4]          262,144    True      \n",
       "______________________________________________________________________\n",
       "BatchNorm2d          [256, 4, 4]          512        True      \n",
       "______________________________________________________________________\n",
       "ReLU                 [2048, 2, 2]         0          False     \n",
       "______________________________________________________________________\n",
       "Conv2d               [256, 4, 4]          589,824    True      \n",
       "______________________________________________________________________\n",
       "BatchNorm2d          [256, 4, 4]          512        True      \n",
       "______________________________________________________________________\n",
       "ReLU                 [2048, 2, 2]         0          False     \n",
       "______________________________________________________________________\n",
       "Conv2d               [1024, 4, 4]         262,144    True      \n",
       "______________________________________________________________________\n",
       "BatchNorm2d          [1024, 4, 4]         2,048      True      \n",
       "______________________________________________________________________\n",
       "Conv2d               [512, 4, 4]          524,288    True      \n",
       "______________________________________________________________________\n",
       "BatchNorm2d          [512, 4, 4]          1,024      True      \n",
       "______________________________________________________________________\n",
       "ReLU                 [2048, 2, 2]         0          False     \n",
       "______________________________________________________________________\n",
       "Conv2d               [512, 2, 2]          2,359,296  True      \n",
       "______________________________________________________________________\n",
       "BatchNorm2d          [512, 2, 2]          1,024      True      \n",
       "______________________________________________________________________\n",
       "ReLU                 [2048, 2, 2]         0          False     \n",
       "______________________________________________________________________\n",
       "Conv2d               [2048, 2, 2]         1,048,576  True      \n",
       "______________________________________________________________________\n",
       "BatchNorm2d          [2048, 2, 2]         4,096      True      \n",
       "______________________________________________________________________\n",
       "Conv2d               [2048, 2, 2]         2,097,152  True      \n",
       "______________________________________________________________________\n",
       "BatchNorm2d          [2048, 2, 2]         4,096      True      \n",
       "______________________________________________________________________\n",
       "AvgPool2d            [1024, 2, 2]         0          False     \n",
       "______________________________________________________________________\n",
       "Conv2d               [512, 2, 2]          1,048,576  True      \n",
       "______________________________________________________________________\n",
       "BatchNorm2d          [512, 2, 2]          1,024      True      \n",
       "______________________________________________________________________\n",
       "ReLU                 [2048, 2, 2]         0          False     \n",
       "______________________________________________________________________\n",
       "Conv2d               [512, 2, 2]          2,359,296  True      \n",
       "______________________________________________________________________\n",
       "BatchNorm2d          [512, 2, 2]          1,024      True      \n",
       "______________________________________________________________________\n",
       "ReLU                 [2048, 2, 2]         0          False     \n",
       "______________________________________________________________________\n",
       "Conv2d               [2048, 2, 2]         1,048,576  True      \n",
       "______________________________________________________________________\n",
       "BatchNorm2d          [2048, 2, 2]         4,096      True      \n",
       "______________________________________________________________________\n",
       "Conv2d               [512, 2, 2]          1,048,576  True      \n",
       "______________________________________________________________________\n",
       "BatchNorm2d          [512, 2, 2]          1,024      True      \n",
       "______________________________________________________________________\n",
       "ReLU                 [2048, 2, 2]         0          False     \n",
       "______________________________________________________________________\n",
       "Conv2d               [512, 2, 2]          2,359,296  True      \n",
       "______________________________________________________________________\n",
       "BatchNorm2d          [512, 2, 2]          1,024      True      \n",
       "______________________________________________________________________\n",
       "ReLU                 [2048, 2, 2]         0          False     \n",
       "______________________________________________________________________\n",
       "Conv2d               [2048, 2, 2]         1,048,576  True      \n",
       "______________________________________________________________________\n",
       "BatchNorm2d          [2048, 2, 2]         4,096      True      \n",
       "______________________________________________________________________\n",
       "AdaptiveAvgPool2d    [2048, 1, 1]         0          False     \n",
       "______________________________________________________________________\n",
       "AdaptiveMaxPool2d    [2048, 1, 1]         0          False     \n",
       "______________________________________________________________________\n",
       "Flatten              [4096]               0          False     \n",
       "______________________________________________________________________\n",
       "Linear               [2]                  8,194      True      \n",
       "______________________________________________________________________\n",
       "\n",
       "Total params: 23,538,338\n",
       "Total trainable params: 23,538,338\n",
       "Total non-trainable params: 0\n",
       "Optimized with 'torch.optim.adam.Adam', betas=(0.9, 0.99)\n",
       "Using true weight decay as discussed in https://www.fast.ai/2018/07/02/adam-weight-decay/ \n",
       "Loss function : FlattenedLoss\n",
       "======================================================================\n",
       "Callbacks functions applied "
      ]
     },
     "execution_count": 36,
     "metadata": {},
     "output_type": "execute_result"
    }
   ],
   "source": [
    "learn.summary()"
   ]
  },
  {
   "cell_type": "code",
   "execution_count": 24,
   "metadata": {
    "ExecuteTime": {
     "end_time": "2019-07-18T14:18:49.133288Z",
     "start_time": "2019-07-18T14:18:43.744014Z"
    }
   },
   "outputs": [
    {
     "data": {
      "text/html": [],
      "text/plain": [
       "<IPython.core.display.HTML object>"
      ]
     },
     "metadata": {},
     "output_type": "display_data"
    },
    {
     "name": "stdout",
     "output_type": "stream",
     "text": [
      "LR Finder is complete, type {learner_name}.recorder.plot() to see the graph.\n"
     ]
    },
    {
     "data": {
      "image/png": "[encoded data removed]",
      "text/plain": [
       "<Figure size 432x288 with 1 Axes>"
      ]
     },
     "metadata": {
      "needs_background": "light"
     },
     "output_type": "display_data"
    }
   ],
   "source": [
    "learn.freeze_to(-1)\n",
    "learn.lr_find()\n",
    "learn.recorder.plot()"
   ]
  },
  {
   "cell_type": "code",
   "execution_count": 25,
   "metadata": {
    "ExecuteTime": {
     "end_time": "2019-07-18T14:18:52.564719Z",
     "start_time": "2019-07-18T14:18:51.291050Z"
    }
   },
   "outputs": [
    {
     "data": {
      "text/html": [
       "<table border=\"1\" class=\"dataframe\">\n",
       "  <thead>\n",
       "    <tr style=\"text-align: left;\">\n",
       "      <th>epoch</th>\n",
       "      <th>train_loss</th>\n",
       "      <th>valid_loss</th>\n",
       "      <th>accuracy</th>\n",
       "      <th>time</th>\n",
       "    </tr>\n",
       "  </thead>\n",
       "  <tbody>\n",
       "    <tr>\n",
       "      <td>0</td>\n",
       "      <td>0.579122</td>\n",
       "      <td>0.458562</td>\n",
       "      <td>0.767606</td>\n",
       "      <td>00:01</td>\n",
       "    </tr>\n",
       "  </tbody>\n",
       "</table>"
      ],
      "text/plain": [
       "<IPython.core.display.HTML object>"
      ]
     },
     "metadata": {},
     "output_type": "display_data"
    }
   ],
   "source": [
    "learn.fit_one_cycle(1, slice(1e-2))"
   ]
  },
  {
   "cell_type": "code",
   "execution_count": 26,
   "metadata": {
    "ExecuteTime": {
     "end_time": "2019-07-18T14:19:08.075283Z",
     "start_time": "2019-07-18T14:19:01.367720Z"
    }
   },
   "outputs": [
    {
     "data": {
      "text/html": [],
      "text/plain": [
       "<IPython.core.display.HTML object>"
      ]
     },
     "metadata": {},
     "output_type": "display_data"
    },
    {
     "name": "stdout",
     "output_type": "stream",
     "text": [
      "LR Finder is complete, type {learner_name}.recorder.plot() to see the graph.\n"
     ]
    },
    {
     "data": {
      "image/png": "[encoded data removed]",
      "text/plain": [
       "<Figure size 432x288 with 1 Axes>"
      ]
     },
     "metadata": {
      "needs_background": "light"
     },
     "output_type": "display_data"
    }
   ],
   "source": [
    "learn.unfreeze()\n",
    "learn.lr_find()\n",
    "learn.recorder.plot()"
   ]
  },
  {
   "cell_type": "code",
   "execution_count": 27,
   "metadata": {
    "ExecuteTime": {
     "end_time": "2019-07-18T14:19:17.844145Z",
     "start_time": "2019-07-18T14:19:13.217464Z"
    }
   },
   "outputs": [
    {
     "data": {
      "text/html": [
       "<table border=\"1\" class=\"dataframe\">\n",
       "  <thead>\n",
       "    <tr style=\"text-align: left;\">\n",
       "      <th>epoch</th>\n",
       "      <th>train_loss</th>\n",
       "      <th>valid_loss</th>\n",
       "      <th>accuracy</th>\n",
       "      <th>time</th>\n",
       "    </tr>\n",
       "  </thead>\n",
       "  <tbody>\n",
       "    <tr>\n",
       "      <td>0</td>\n",
       "      <td>0.438015</td>\n",
       "      <td>0.449179</td>\n",
       "      <td>0.781690</td>\n",
       "      <td>00:01</td>\n",
       "    </tr>\n",
       "    <tr>\n",
       "      <td>1</td>\n",
       "      <td>0.422567</td>\n",
       "      <td>0.445989</td>\n",
       "      <td>0.792253</td>\n",
       "      <td>00:01</td>\n",
       "    </tr>\n",
       "    <tr>\n",
       "      <td>2</td>\n",
       "      <td>0.417002</td>\n",
       "      <td>0.449582</td>\n",
       "      <td>0.809859</td>\n",
       "      <td>00:01</td>\n",
       "    </tr>\n",
       "  </tbody>\n",
       "</table>"
      ],
      "text/plain": [
       "<IPython.core.display.HTML object>"
      ]
     },
     "metadata": {},
     "output_type": "display_data"
    }
   ],
   "source": [
    "learn.unfreeze()\n",
    "learn.fit_one_cycle(3, slice(1e-3))"
   ]
  }
 ],
 "metadata": {
  "kernelspec": {
   "display_name": "Python 3",
   "language": "python",
   "name": "python3"
  },
  "language_info": {
   "codemirror_mode": {
    "name": "ipython",
    "version": 3
   },
   "file_extension": ".py",
   "mimetype": "text/x-python",
   "name": "python",
   "nbconvert_exporter": "python",
   "pygments_lexer": "ipython3",
   "version": "3.7.3"
  }
 },
 "nbformat": 4,
 "nbformat_minor": 2
}
